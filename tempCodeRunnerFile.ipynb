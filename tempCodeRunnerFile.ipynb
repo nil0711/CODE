import matplotlib.pyplot as plt

total_tracks_is_disk = 200
tracks = [45,7,81,35,90,24,41]
back = []
front = []
head_pointer = 30
started = False
started1 = False
number_of_cylinders = []
start_point = tracks[0]
head_positions = []
head_positions.append(head_pointer)

forwarded = (
    True
    if head_pointer < tracks[0]
    or (head_pointer == tracks[0] and head_pointer < tracks[1])
    else False
)
if not forwarded:
    back.append(0)
else:
    tracks.append(total_tracks_is_disk-1)

while tracks:
    current_track = tracks[0]
    if (current_track < head_pointer and current_track <= start_point) or (head_pointer == tracks[0] and tracks[0] > tracks[1] and not started1):
        back.append(current_track)
    else:
        front.append(current_track)
    started1 = True
    tracks.remove(current_track)


front = sorted(front)
back = sorted(back,reverse=True)
tracks = front + back if forwarded else back + front


while tracks:
    next_pos = tracks[0]
    print(f'start point in the list is {next_pos}\n\n({next_pos} - {head_pointer})', end=' + ') if not started else print(f'({next_pos} - {head_pointer})', end=' + ' if len(tracks)> 1 else '')
    started = True
    
    
    number_of_cylinders.append(abs(next_pos - head_pointer))
    tracks.remove(next_pos)
    head_pointer = next_pos
    head_positions.append(head_pointer)

print(f' = {sum(number_of_cylinders)}')
print()
print(f'total number of cylinders is {sum(number_of_cylinders)}')
print()

for pointers in head_positions:
    print(f'{pointers}',end=' --> ' if pointers != head_positions[-1] else '')

time = range(len(head_positions))
plt.figure(figsize=(25, 10))
plt.plot(head_positions, time, marker='o') 

plt.xlabel('Head Position') 
plt.ylabel('Time') 
plt.title('Head Pointer Movement')
for i, (pos, t) in enumerate(zip(head_positions, time)):
    plt.text(pos, t, f'\n   ({pos}, {t})', ha='left', va='center',fontsize = 16) 
plt.show()
